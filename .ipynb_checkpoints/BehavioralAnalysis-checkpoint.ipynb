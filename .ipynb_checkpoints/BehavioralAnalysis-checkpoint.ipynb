{
 "cells": [
  {
   "cell_type": "code",
   "execution_count": 1,
   "id": "ddf2d988-3a49-4ddc-b7ac-d704e28daec4",
   "metadata": {},
   "outputs": [],
   "source": [
    "import numpy as np \n",
    "import pandas as pd\n",
    "import matplotlib.pyplot as plt\n",
    "import statistics \n",
    "import seaborn as sns\n",
    "import os\n",
    "from scipy import stats\n",
    "import statsmodels.api as sm\n",
    "from statsmodels.formula.api import ols\n",
    "from statsmodels.stats.anova import AnovaRM\n",
    "import itertools\n",
    "from scipy.stats import ttest_rel"
   ]
  },
  {
   "cell_type": "code",
   "execution_count": 2,
   "id": "acd14d1d-b10c-44b1-8199-75ea3c7c9e2b",
   "metadata": {},
   "outputs": [
    {
     "data": {
      "text/plain": [
       "38"
      ]
     },
     "execution_count": 2,
     "metadata": {},
     "output_type": "execute_result"
    }
   ],
   "source": [
    "data_dir = '/projects/f_mc1689_1/MeiranNext/ARUNAnalysis/MeiranNEXTArun'\n",
    "file_list = os.listdir(data_dir)\n",
    "csv_files = [file for file in file_list if file.endswith('.csv')]\n",
    "len(csv_files)"
   ]
  },
  {
   "cell_type": "code",
   "execution_count": 3,
   "id": "a8fc92fc-bc98-4b81-81a7-99546ad3cc22",
   "metadata": {},
   "outputs": [],
   "source": [
    "d = pd.read_csv('/projects/f_mc1689_1/MeiranNext/ARUNAnalysis/MeiranNEXTArun/subj16 csv file.csv')"
   ]
  },
  {
   "cell_type": "code",
   "execution_count": 4,
   "id": "6f0f42a8-da94-4545-9d19-19c7007a1def",
   "metadata": {},
   "outputs": [
    {
     "name": "stdout",
     "output_type": "stream",
     "text": [
      "['white' 'green' 'red']\n"
     ]
    }
   ],
   "source": [
    "phases = d['bcolor[SubTrial]'].unique()\n",
    "print(phases)"
   ]
  },
  {
   "cell_type": "code",
   "execution_count": 5,
   "id": "35f5d2ee-92ec-4ecc-aa0e-beaf58695575",
   "metadata": {},
   "outputs": [
    {
     "name": "stdout",
     "output_type": "stream",
     "text": [
      "['next fmri block1-061020' 'next fmri block2-061020'\n",
      " 'next fmri block3-061020' 'next fmri block4-061020'\n",
      " 'next fmri block5-061020' 'next fmri block6-061020'\n",
      " 'next fmri block7-061020' 'next fmri block8-061020']\n"
     ]
    }
   ],
   "source": [
    "block_name = d['ExperimentName'].unique()\n",
    "print(block_name)"
   ]
  },
  {
   "cell_type": "code",
   "execution_count": 6,
   "id": "550b2e01-806f-4322-acb1-d4136234bf56",
   "metadata": {},
   "outputs": [
    {
     "name": "stdout",
     "output_type": "stream",
     "text": [
      "[nan 'incong' 'cong']\n"
     ]
    }
   ],
   "source": [
    "congruency = d['cong'].unique()\n",
    "print(congruency)"
   ]
  },
  {
   "cell_type": "code",
   "execution_count": 7,
   "id": "fce9a942-e076-4d50-be7b-97852df09b46",
   "metadata": {},
   "outputs": [
    {
     "name": "stdout",
     "output_type": "stream",
     "text": [
      "['newproc' 'pracproc' 'nonextnewproc' 'nonextpracproc']\n"
     ]
    }
   ],
   "source": [
    "procedure = d['Procedure[Trial]'].unique()\n",
    "print(procedure)"
   ]
  },
  {
   "cell_type": "code",
   "execution_count": 8,
   "id": "b7a5414c-3848-439f-b451-27c678871530",
   "metadata": {},
   "outputs": [
    {
     "name": "stdout",
     "output_type": "stream",
     "text": [
      "[ 0.  1.  2. nan]\n"
     ]
    }
   ],
   "source": [
    "red_counter = d['redcounter[SubTrial]'].unique() \n",
    "print(red_counter) "
   ]
  },
  {
   "cell_type": "code",
   "execution_count": 9,
   "id": "e484c07d-3435-4fda-a2aa-15afd3421872",
   "metadata": {},
   "outputs": [
    {
     "name": "stdout",
     "output_type": "stream",
     "text": [
      "[ 0.  1.  2.  3.  4. nan]\n"
     ]
    }
   ],
   "source": [
    "green_counter = d['greencounter[SubTrial]'].unique()\n",
    "print(green_counter) "
   ]
  },
  {
   "cell_type": "markdown",
   "id": "4ef829bc-99ab-46d0-8ec3-3fd19f37d29f",
   "metadata": {},
   "source": [
    "# Experiment 1 "
   ]
  },
  {
   "cell_type": "code",
   "execution_count": 10,
   "id": "78215c97-5196-40e0-8492-f516c8f97d4b",
   "metadata": {},
   "outputs": [],
   "source": [
    "mean_cong_trial_1 = []\n",
    "mean_cong_trial_2 = []\n",
    "mean_incong_trial_1 = []\n",
    "mean_incong_trial_2 = []\n",
    "for i in range(len(csv_files)):\n",
    "    file_path = os.path.join(data_dir, csv_files[i])\n",
    "    data = pd.read_csv(file_path)\n",
    "    filtered_data = data[(data['bcolor[SubTrial]'] == 'red') & (data['Procedure[Trial]'] == 'newproc')]\n",
    "    grouped = filtered_data.groupby(['cong', 'redcounter[SubTrial]'])\n",
    "    congruent_trial_1 = grouped.get_group(('cong', 1))['target.RT'].tolist()\n",
    "    mean_cong_trial_1.append(statistics.mean(congruent_trial_1))\n",
    "    congruent_trial_2 = grouped.get_group(('cong', 2))['target.RT'].tolist()\n",
    "    mean_cong_trial_2.append(statistics.mean(congruent_trial_2))\n",
    "    incongruent_trial_1 = grouped.get_group(('incong', 1))['target.RT'].tolist()\n",
    "    mean_incong_trial_1.append(statistics.mean(incongruent_trial_1))\n",
    "    incongruent_trial_2 = grouped.get_group(('incong', 2))['target.RT'].tolist()\n",
    "    mean_incong_trial_2.append(statistics.mean(incongruent_trial_2))\n",
    "    "
   ]
  },
  {
   "cell_type": "code",
   "execution_count": 11,
   "id": "25da69ae-8500-4cdc-b7a4-c020b667f2f4",
   "metadata": {},
   "outputs": [
    {
     "data": {
      "text/plain": [
       "<matplotlib.legend.Legend at 0x7f47fdb4bfd0>"
      ]
     },
     "execution_count": 11,
     "metadata": {},
     "output_type": "execute_result"
    },
    {
     "data": {
      "image/png": "[encoded data removed]",
      "text/plain": [
       "<Figure size 800x600 with 1 Axes>"
      ]
     },
     "metadata": {},
     "output_type": "display_data"
    }
   ],
   "source": [
    "legends = ['congruent','incongruent']\n",
    "labels = ['Trial 1', 'Trial 2']\n",
    "\n",
    "congruent_means = [statistics.mean(mean_cong_trial_1), statistics.mean(mean_cong_trial_2)]\n",
    "incongruent_means = [statistics.mean(mean_incong_trial_1), statistics.mean(mean_incong_trial_2)]\n",
    "congruent_std = [statistics.stdev(mean_cong_trial_1), statistics.stdev(mean_cong_trial_2)]\n",
    "incongruent_std = [statistics.stdev(mean_incong_trial_1), statistics.stdev(mean_incong_trial_2)]\n",
    "\n",
    "x = np.arange(len(labels))  # the label locations\n",
    "width = 0.35  # the width of the bars\n",
    "\n",
    "fig, ax = plt.subplots(figsize = (8,6))\n",
    "rects1 = ax.bar(x - width/2, congruent_means, width, yerr=congruent_std, label='Congruent', capsize=5)\n",
    "rects2 = ax.bar(x + width/2, incongruent_means, width, yerr=incongruent_std, label='Incongruent', capsize=5)\n",
    "\n",
    "ax.set_ylabel('Response Times (ms)')\n",
    "ax.set_title('NEXT response by Trial and Congruency')\n",
    "ax.set_xticks(x)\n",
    "ax.set_xticklabels(labels)\n",
    "ax.legend()\n"
   ]
  },
  {
   "cell_type": "code",
   "execution_count": 15,
   "id": "523baa6f-8002-4ab4-8f0e-80a500e6896b",
   "metadata": {},
   "outputs": [
    {
     "name": "stdout",
     "output_type": "stream",
     "text": [
      "[61.29073242 52.38210839]\n"
     ]
    }
   ],
   "source": [
    "diff = np.array(incongruent_means) - np.array(congruent_means)\n",
    "print(diff)"
   ]
  },
  {
   "cell_type": "code",
   "execution_count": 21,
   "id": "5a659c42-8aa4-49ea-8a53-04d84142703b",
   "metadata": {},
   "outputs": [],
   "source": [
    "data_exp_1 = {\n",
    "    'Congruency': ['Congruent']*76 + ['Incongruent']*76,\n",
    "    'Trial': [1]*38 + [2]*38 + [1]*38 + [2]*38,  \n",
    "    'Mean_Reaction_Time': mean_cong_trial_1 + mean_cong_trial_2 +\n",
    "    mean_incong_trial_1 + mean_incong_trial_2\n",
    "}\n",
    "\n",
    "df_exp_1 = pd.DataFrame(data_exp_1)"
   ]
  },
  {
   "cell_type": "code",
   "execution_count": 22,
   "id": "30c3cde1-cd9d-4d9d-9545-6c41fba2d582",
   "metadata": {},
   "outputs": [],
   "source": [
    "# Define the model\n",
    "model = ols('Mean_Reaction_Time ~ C(Congruency) * C(Trial)', data=df_exp_1).fit()\n"
   ]
  },
  {
   "cell_type": "code",
   "execution_count": 23,
   "id": "01c3c9f1-63d9-4268-81e0-54408bbf6c3d",
   "metadata": {},
   "outputs": [
    {
     "name": "stdout",
     "output_type": "stream",
     "text": [
      "                              sum_sq     df          F    PR(>F)\n",
      "C(Congruency)           1.227544e+05    1.0  10.541994  0.001444\n",
      "C(Trial)                4.631982e+04    1.0   3.977888  0.047938\n",
      "C(Congruency):C(Trial)  7.539540e+02    1.0   0.064749  0.799495\n",
      "Residual                1.723360e+06  148.0        NaN       NaN\n"
     ]
    }
   ],
   "source": [
    "# Conduct two-way ANOVA\n",
    "\n",
    "anova_results = sm.stats.anova_lm(model, typ=2)  \n",
    "print(anova_results)\n"
   ]
  },
  {
   "cell_type": "markdown",
   "id": "201d3591-e58c-44a7-8145-af0059c81cda",
   "metadata": {},
   "source": [
    "# Experiment 2"
   ]
  },
  {
   "cell_type": "code",
   "execution_count": 24,
   "id": "2d875477-17c4-47e8-b013-2dd77ee09628",
   "metadata": {},
   "outputs": [],
   "source": [
    "mean_go_trial_1 = []\n",
    "mean_go_trial_2 = []\n",
    "mean_go_trial_3 = []\n",
    "mean_go_trial_4 = []\n",
    "subj_id = []\n",
    "\n",
    "for i in range(len(csv_files)):\n",
    "    file_path = os.path.join(data_dir, csv_files[i])\n",
    "    subj_id.append(csv_files[i])\n",
    "    data = pd.read_csv(file_path)\n",
    "    filtered_data = data[(data['bcolor[SubTrial]'] == 'green') & (data['Procedure[Trial]'] == 'newproc')]\n",
    "    grouped = filtered_data.groupby('greencounter[SubTrial]')\n",
    "    go_trial_1 = grouped.get_group(1)['target.RT'].tolist()\n",
    "    mean_go_trial_1.append(statistics.mean(go_trial_1))\n",
    "    go_trial_2 = grouped.get_group(2)['target.RT'].tolist()\n",
    "    mean_go_trial_2.append(statistics.mean(go_trial_2))\n",
    "    go_trial_3 = grouped.get_group(3)['target.RT'].tolist()\n",
    "    mean_go_trial_3.append(statistics.mean(go_trial_3))\n",
    "    go_trial_4 = grouped.get_group(4)['target.RT'].tolist()\n",
    "    mean_go_trial_4.append(statistics.mean(go_trial_4))\n",
    "    "
   ]
  },
  {
   "cell_type": "code",
   "execution_count": 28,
   "id": "8a7f7ef7-34ea-49af-9aef-eddd197c783a",
   "metadata": {},
   "outputs": [
    {
     "data": {
      "image/png": "[encoded data removed]",
      "text/plain": [
       "<Figure size 640x480 with 1 Axes>"
      ]
     },
     "metadata": {},
     "output_type": "display_data"
    }
   ],
   "source": [
    "legends = ['Go trial 1', 'Go Trial 2', 'Go trial 3', 'Go trial 4']\n",
    "\n",
    "means = [statistics.mean(mean_go_trial_1), statistics.mean(mean_go_trial_2), statistics.mean(mean_go_trial_3), statistics.mean(mean_go_trial_4)]\n",
    "stdevs = [statistics.stdev(mean_go_trial_1), statistics.stdev(mean_go_trial_2), statistics.stdev(mean_go_trial_3), statistics.stdev(mean_go_trial_4)]\n",
    "sems = [stats.sem(mean_go_trial_1), stats.sem(mean_go_trial_2), stats.sem(mean_go_trial_3), stats.sem(mean_go_trial_4)]\n",
    "\n",
    "x_pos = range(len(legends))\n",
    "plt.bar(x_pos, means, yerr = stdevs, capsize = 5)\n",
    "\n",
    "plt.xlabel('Categories                                      categ2')\n",
    "plt.ylabel('Response Times (ms)')\n",
    "plt.title('GO response by Trials')\n",
    "\n",
    "# Replacing the x ticks with the category names\n",
    "plt.xticks(x_pos, legends)\n",
    "\n",
    "# Display the plot\n",
    "plt.show()"
   ]
  },
  {
   "cell_type": "code",
   "execution_count": 29,
   "id": "84f966a9-b8c2-4590-8ed3-654107124b05",
   "metadata": {},
   "outputs": [],
   "source": [
    "data_exp_2 = pd.DataFrame({\n",
    "    'subject_id':subj_id*4,\n",
    "    'Trials': ['Trial_1']*38 + ['Trial_2']*38 + ['Trial_3']*38 + ['Trial_4']*38,\n",
    "    'Mean_response_time': mean_go_trial_1 + mean_go_trial_2 + mean_go_trial_3 + mean_go_trial_4 \n",
    "})\n",
    "    "
   ]
  },
  {
   "cell_type": "code",
   "execution_count": 30,
   "id": "8e4f192b-fa83-4eef-9b8e-25f9c21faf58",
   "metadata": {},
   "outputs": [
    {
     "name": "stdout",
     "output_type": "stream",
     "text": [
      "                Anova\n",
      "=====================================\n",
      "       F Value Num DF  Den DF  Pr > F\n",
      "-------------------------------------\n",
      "Trials 32.5787 3.0000 111.0000 0.0000\n",
      "=====================================\n",
      "\n"
     ]
    }
   ],
   "source": [
    "#repeated measures ANOVA \n",
    "anova_results = AnovaRM(data_exp_2, depvar='Mean_response_time', subject='subject_id', within=['Trials']).fit() \n",
    "print(anova_results)"
   ]
  },
  {
   "cell_type": "code",
   "execution_count": 31,
   "id": "77be010b-5d9e-4d34-91d7-8bd277553361",
   "metadata": {},
   "outputs": [
    {
     "name": "stdout",
     "output_type": "stream",
     "text": [
      "Significant difference between Go trial 1 and Go Trial 2 (p = 0.0000)\n",
      "Significant difference between Go trial 1 and Go trial 3 (p = 0.0000)\n",
      "Significant difference between Go trial 1 and Go trial 4 (p = 0.0000)\n",
      "No significant difference between Go Trial 2 and Go trial 3 (p = 0.0558)\n",
      "No significant difference between Go Trial 2 and Go trial 4 (p = 0.1484)\n",
      "No significant difference between Go trial 3 and Go trial 4 (p = 0.7150)\n"
     ]
    }
   ],
   "source": [
    "#pairwise t-test with bonferroni correction \n",
    "\n",
    "trials = ['Go trial 1', 'Go Trial 2', 'Go trial 3', 'Go trial 4']\n",
    "rts = [mean_go_trial_1, mean_go_trial_2, mean_go_trial_3, mean_go_trial_4]\n",
    "\n",
    "n_comparisons = len(list(itertools.combinations(range(len(trials)), 2)))\n",
    "\n",
    "# Adjusted alpha level for Bonferroni correction\n",
    "alpha_bonferroni = 0.05 / n_comparisons\n",
    "\n",
    "# Conduct pairwise comparisons\n",
    "for (i, j) in itertools.combinations(range(len(trials)), 2):\n",
    "    stat, p = stats.ttest_rel(rts[i], rts[j])\n",
    "    if p < alpha_bonferroni:\n",
    "        print(f\"Significant difference between {trials[i]} and {trials[j]} (p = {p:.4f})\")\n",
    "    else:\n",
    "        print(f\"No significant difference between {trials[i]} and {trials[j]} (p = {p:.4f})\")\n",
    "\n"
   ]
  },
  {
   "cell_type": "markdown",
   "id": "4e57dc42-4580-471f-b49f-18d563490c6b",
   "metadata": {},
   "source": [
    "# Experiment 3 (practiced Vs. Novel NEXT phase)"
   ]
  },
  {
   "cell_type": "code",
   "execution_count": 33,
   "id": "dab5fc77-0555-4aec-bae4-a18e62b26d80",
   "metadata": {},
   "outputs": [
    {
     "name": "stdout",
     "output_type": "stream",
     "text": [
      "Skipping file subj7 csv file.csv due to missing group: ('cong', 2, 'pracproc')\n",
      "Skipping file subj1_merged_file.csv due to missing group: ('incong', 2, 'pracproc')\n",
      "Skipping file subj40 csv file.csv due to missing group: ('cong', 2, 'pracproc')\n",
      "Skipping file subj33 csv file.csv due to missing group: ('incong', 2, 'pracproc')\n",
      "Skipping file subj18 csv file.csv due to missing group: ('cong', 2, 'pracproc')\n",
      "Skipping file subj3 csv file.csv due to missing group: ('incong', 2, 'pracproc')\n",
      "Skipping file subj17 csv file.csv due to missing group: ('incong', 2, 'pracproc')\n",
      "Skipping file subj36 csv file.csv due to missing group: ('incong', 2, 'pracproc')\n"
     ]
    }
   ],
   "source": [
    "mean_prac_cong_trial_1 = []\n",
    "mean_prac_cong_trial_2 = []\n",
    "mean_prac_incong_trial_1 = []\n",
    "mean_prac_incong_trial_2 = []\n",
    "mean_novel_cong_trial_1 = []\n",
    "mean_novel_cong_trial_2 = []\n",
    "mean_novel_incong_trial_1 = []\n",
    "mean_novel_incong_trial_2 = [] \n",
    "\n",
    "for i in range(len(csv_files)):\n",
    "    file_path = os.path.join(data_dir, csv_files[i])\n",
    "    data = pd.read_csv(file_path)\n",
    "    filtered_data = data[data['bcolor[SubTrial]'] == 'red']\n",
    "    grouped = filtered_data.groupby(['cong', 'redcounter[SubTrial]', 'Procedure[Trial]'])\n",
    "    \n",
    "    try:\n",
    "        prac_cong_trial_1 = grouped.get_group(('cong', 1, 'pracproc'))['target.RT'].tolist()\n",
    "        mean_prac_cong_trial_1.append(statistics.mean(prac_cong_trial_1))\n",
    "        \n",
    "        prac_cong_trial_2 = grouped.get_group(('cong', 2, 'pracproc'))['target.RT'].tolist()\n",
    "        mean_prac_cong_trial_2.append(statistics.mean(prac_cong_trial_2))\n",
    "        \n",
    "        prac_incong_trial_1 = grouped.get_group(('incong', 1, 'pracproc'))['target.RT'].tolist()\n",
    "        mean_prac_incong_trial_1.append(statistics.mean(prac_incong_trial_1))\n",
    "        \n",
    "        prac_incong_trial_2 = grouped.get_group(('incong', 2, 'pracproc'))['target.RT'].tolist()\n",
    "        mean_prac_incong_trial_2.append(statistics.mean(prac_incong_trial_2))\n",
    "        \n",
    "        novel_cong_trial_1 = grouped.get_group(('cong', 1, 'newproc'))['target.RT'].tolist()\n",
    "        mean_novel_cong_trial_1.append(statistics.mean(novel_cong_trial_1))\n",
    "        \n",
    "        novel_cong_trial_2 = grouped.get_group(('cong', 2, 'newproc'))['target.RT'].tolist()\n",
    "        mean_novel_cong_trial_2.append(statistics.mean(novel_cong_trial_2))\n",
    "        \n",
    "        novel_incong_trial_1 = grouped.get_group(('incong', 1, 'newproc'))['target.RT'].tolist()\n",
    "        mean_novel_incong_trial_1.append(statistics.mean(novel_incong_trial_1))\n",
    "        \n",
    "        novel_incong_trial_2 = grouped.get_group(('incong', 2, 'newproc'))['target.RT'].tolist()\n",
    "        mean_novel_incong_trial_2.append(statistics.mean(novel_incong_trial_2))\n",
    "    \n",
    "    except KeyError as e:\n",
    "        print(f\"Skipping file {csv_files[i]} due to missing group: {e}\")\n",
    "        continue  # This skips the rest of the current iteration and moves to the next file\n",
    "    "
   ]
  },
  {
   "cell_type": "code",
   "execution_count": 34,
   "id": "d5854f1b-2dae-46fa-9878-1d44e941a07e",
   "metadata": {},
   "outputs": [
    {
     "data": {
      "text/plain": [
       "142.91470542536874"
      ]
     },
     "execution_count": 34,
     "metadata": {},
     "output_type": "execute_result"
    }
   ],
   "source": [
    "statistics.stdev(mean_prac_incong_trial_2)"
   ]
  },
  {
   "cell_type": "code",
   "execution_count": 38,
   "id": "ea3fca07-b53e-4d7b-aa03-686edfda4fb1",
   "metadata": {},
   "outputs": [
    {
     "data": {
      "text/plain": [
       "<matplotlib.legend.Legend at 0x7fe7846eb550>"
      ]
     },
     "execution_count": 38,
     "metadata": {},
     "output_type": "execute_result"
    },
    {
     "data": {
      "image/png": "[encoded data removed]",
      "text/plain": [
       "<Figure size 1100x600 with 1 Axes>"
      ]
     },
     "metadata": {},
     "output_type": "display_data"
    }
   ],
   "source": [
    "\n",
    "\n",
    "labels = ['Congruent', 'Incongruent', 'Congruent', 'Incongruent']\n",
    "legends = ['Practiced', 'Novel']\n",
    "\n",
    "practiced_means = [statistics.mean(mean_prac_cong_trial_1), statistics.mean(mean_prac_incong_trial_1), \n",
    "                   statistics.mean(mean_prac_cong_trial_2), statistics.mean(mean_prac_incong_trial_2)]\n",
    "\n",
    "novel_means = [statistics.mean(mean_novel_cong_trial_1), statistics.mean(mean_novel_incong_trial_1), \n",
    "                   statistics.mean(mean_novel_cong_trial_2), statistics.mean(mean_novel_incong_trial_2)]\n",
    "\n",
    "practiced_stds = [statistics.stdev(mean_prac_cong_trial_1), statistics.stdev(mean_prac_incong_trial_1), \n",
    "                   statistics.stdev(mean_prac_cong_trial_2), statistics.stdev(mean_prac_incong_trial_2)]\n",
    "\n",
    "novel_stds = [statistics.stdev(mean_novel_cong_trial_1), statistics.stdev(mean_novel_incong_trial_1), \n",
    "                   statistics.stdev(mean_novel_cong_trial_2), statistics.stdev(mean_novel_incong_trial_2)]\n",
    "          \n",
    "\n",
    "x = np.arange(len(labels))  # the label locations\n",
    "width = 0.35  # the width of the bars\n",
    "\n",
    "fig, ax = plt.subplots(figsize=(11, 6))\n",
    "rects1 = ax.bar(x - width/2, practiced_means, width, yerr = practiced_stds, label='Practiced', capsize=5)\n",
    "rects2 = ax.bar(x + width/2, novel_means, width, yerr = novel_stds, label='Novel', capsize=5)\n",
    "\n",
    "ax.set_xlabel('Trial 1                                                                                       Trial 2')\n",
    "ax.set_ylabel('Response Times (ms)')\n",
    "ax.set_title('NEXT response by Trial and Congruency')\n",
    "ax.set_xticks(x)\n",
    "ax.set_xticklabels(labels)\n",
    "ax.legend()\n"
   ]
  },
  {
   "cell_type": "code",
   "execution_count": 45,
   "id": "9a6a3ad8-caf4-40a3-86d1-9357033ec464",
   "metadata": {},
   "outputs": [
    {
     "name": "stdout",
     "output_type": "stream",
     "text": [
      "38\n",
      "35\n",
      "35\n",
      "30\n",
      "30\n",
      "30\n",
      "30\n",
      "30\n"
     ]
    }
   ],
   "source": [
    "print(len(mean_prac_cong_trial_1))\n",
    "print(len(mean_prac_cong_trial_2))\n",
    "print(len(mean_prac_incong_trial_1))\n",
    "print(len(mean_prac_incong_trial_2))\n",
    "print(len(mean_novel_cong_trial_1))\n",
    "print(len(mean_novel_cong_trial_2))\n",
    "print(len(mean_novel_incong_trial_1))\n",
    "print(len(mean_novel_incong_trial_2))"
   ]
  },
  {
   "cell_type": "code",
   "execution_count": 54,
   "id": "21920734-f03f-4551-b953-0f545bce60aa",
   "metadata": {},
   "outputs": [
    {
     "ename": "ValueError",
     "evalue": "unequal length arrays",
     "output_type": "error",
     "traceback": [
      "\u001b[0;31m---------------------------------------------------------------------------\u001b[0m",
      "\u001b[0;31mValueError\u001b[0m                                Traceback (most recent call last)",
      "Cell \u001b[0;32mIn[54], line 1\u001b[0m\n\u001b[0;32m----> 1\u001b[0m t_statistic, p_value \u001b[38;5;241m=\u001b[39m \u001b[43mstats\u001b[49m\u001b[38;5;241;43m.\u001b[39;49m\u001b[43mttest_rel\u001b[49m\u001b[43m(\u001b[49m\u001b[43mmean_prac_incong_trial_1\u001b[49m\u001b[43m,\u001b[49m\u001b[43m \u001b[49m\u001b[43mmean_novel_incong_trial_1\u001b[49m\u001b[43m)\u001b[49m\n\u001b[1;32m      2\u001b[0m p_value\n",
      "File \u001b[0;32m/projects/f_mc1689_1/AnalysisTools/anaconda3b/lib/python3.9/site-packages/scipy/stats/stats.py:6445\u001b[0m, in \u001b[0;36mttest_rel\u001b[0;34m(a, b, axis, nan_policy, alternative)\u001b[0m\n\u001b[1;32m   6443\u001b[0m nb \u001b[38;5;241m=\u001b[39m _get_len(b, axis, \u001b[38;5;124m\"\u001b[39m\u001b[38;5;124msecond argument\u001b[39m\u001b[38;5;124m\"\u001b[39m)\n\u001b[1;32m   6444\u001b[0m \u001b[38;5;28;01mif\u001b[39;00m na \u001b[38;5;241m!=\u001b[39m nb:\n\u001b[0;32m-> 6445\u001b[0m     \u001b[38;5;28;01mraise\u001b[39;00m \u001b[38;5;167;01mValueError\u001b[39;00m(\u001b[38;5;124m'\u001b[39m\u001b[38;5;124munequal length arrays\u001b[39m\u001b[38;5;124m'\u001b[39m)\n\u001b[1;32m   6447\u001b[0m \u001b[38;5;28;01mif\u001b[39;00m na \u001b[38;5;241m==\u001b[39m \u001b[38;5;241m0\u001b[39m:\n\u001b[1;32m   6448\u001b[0m     \u001b[38;5;28;01mreturn\u001b[39;00m _ttest_nans(a, b, axis, Ttest_relResult)\n",
      "\u001b[0;31mValueError\u001b[0m: unequal length arrays"
     ]
    }
   ],
   "source": [
    "t_statistic, p_value = stats.ttest_rel(mean_prac_incong_trial_1, mean_novel_incong_trial_1)\n",
    "p_value"
   ]
  },
  {
   "cell_type": "code",
   "execution_count": null,
   "id": "5e602f13-776c-4d97-9bdf-3a616eecbd36",
   "metadata": {},
   "outputs": [],
   "source": []
  },
  {
   "cell_type": "markdown",
   "id": "9c249d25-650c-4fb5-baaa-5a6edf0f1e4a",
   "metadata": {},
   "source": [
    "# Experiment 4 (Practiced Vs. Novel GO phase)"
   ]
  },
  {
   "cell_type": "code",
   "execution_count": 39,
   "id": "e35ebde3-35a3-4955-ad91-29ecc7c3805b",
   "metadata": {},
   "outputs": [],
   "source": [
    "mean_prac_trial_1 = []\n",
    "mean_prac_trial_2 = []\n",
    "mean_prac_trial_3 = []\n",
    "mean_prac_trial_4 = []\n",
    "mean_novel_trial_1 = []\n",
    "mean_novel_trial_2 = []\n",
    "mean_novel_trial_3 = []\n",
    "mean_novel_trial_4 = [] \n",
    "subject_id = []\n",
    "\n",
    "for i in range(len(csv_files)):\n",
    "    file_path = os.path.join(data_dir, csv_files[i])\n",
    "    data = pd.read_csv(file_path)\n",
    "    subject_id.append(csv_files[i])\n",
    "    filtered_data = data[data['bcolor[SubTrial]'] == 'green']\n",
    "    grouped = filtered_data.groupby(['greencounter[SubTrial]', 'Procedure[Trial]'])\n",
    "    \n",
    "    try:\n",
    "        prac_trial_1 = grouped.get_group((1, 'pracproc'))['target.RT'].tolist()\n",
    "        mean_prac_trial_1.append(statistics.mean(prac_trial_1))\n",
    "        \n",
    "        prac_trial_2 = grouped.get_group((2, 'pracproc'))['target.RT'].tolist()\n",
    "        mean_prac_trial_2.append(statistics.mean(prac_trial_2))\n",
    "        \n",
    "        prac_trial_3 = grouped.get_group((3, 'pracproc'))['target.RT'].tolist()\n",
    "        mean_prac_trial_3.append(statistics.mean(prac_trial_3))\n",
    "        \n",
    "        prac_trial_4 = grouped.get_group((4, 'pracproc'))['target.RT'].tolist()\n",
    "        mean_prac_trial_4.append(statistics.mean(prac_trial_4))\n",
    "        \n",
    "        novel_trial_1 = grouped.get_group((1, 'newproc'))['target.RT'].tolist()\n",
    "        mean_novel_trial_1.append(statistics.mean(novel_trial_1))\n",
    "        \n",
    "        novel_trial_2 = grouped.get_group((2, 'newproc'))['target.RT'].tolist()\n",
    "        mean_novel_trial_2.append(statistics.mean(novel_trial_2))\n",
    "        \n",
    "        novel_trial_3 = grouped.get_group((3, 'newproc'))['target.RT'].tolist()\n",
    "        mean_novel_trial_3.append(statistics.mean(novel_trial_3))\n",
    "        \n",
    "        novel_trial_4 = grouped.get_group((4, 'newproc'))['target.RT'].tolist()\n",
    "        mean_novel_trial_4.append(statistics.mean(novel_trial_4))\n",
    "    \n",
    "    except KeyError as e:\n",
    "        print(f\"Skipping file {csv_files[i]} due to missing group: {e}\")\n",
    "        continue  # This skips the rest of the current iteration and moves to the next file"
   ]
  },
  {
   "cell_type": "code",
   "execution_count": 40,
   "id": "ce5be74f-5235-40dd-a80c-14bf988ca41b",
   "metadata": {},
   "outputs": [
    {
     "data": {
      "text/plain": [
       "<matplotlib.legend.Legend at 0x7fe7846d4d00>"
      ]
     },
     "execution_count": 40,
     "metadata": {},
     "output_type": "execute_result"
    },
    {
     "data": {
      "image/png": "[encoded data removed]",
      "text/plain": [
       "<Figure size 1100x600 with 1 Axes>"
      ]
     },
     "metadata": {},
     "output_type": "display_data"
    }
   ],
   "source": [
    "labels = ['Trial 1', 'Trial 2', 'Trial 3', 'Trial 4']\n",
    "legends = ['Practiced', 'Novel']\n",
    "\n",
    "practiced_means = [statistics.mean(mean_prac_trial_1), statistics.mean(mean_prac_trial_2), \n",
    "                   statistics.mean(mean_prac_trial_3), statistics.mean(mean_prac_trial_4)]\n",
    "\n",
    "novel_means = [statistics.mean(mean_novel_trial_1), statistics.mean(mean_novel_trial_2), \n",
    "                   statistics.mean(mean_novel_trial_3), statistics.mean(mean_novel_trial_4)]\n",
    "\n",
    "practiced_stds = [statistics.stdev(mean_prac_trial_1), statistics.stdev(mean_prac_trial_2), \n",
    "                   statistics.stdev(mean_prac_trial_3), statistics.stdev(mean_prac_trial_4)]\n",
    "\n",
    "novel_stds = [statistics.stdev(mean_novel_trial_1), statistics.stdev(mean_novel_trial_2), \n",
    "                   statistics.stdev(mean_novel_trial_3), statistics.stdev(mean_novel_trial_4)]\n",
    "          \n",
    "\n",
    "x = np.arange(len(labels))  # the label locations\n",
    "width = 0.35  # the width of the bars\n",
    "\n",
    "fig, ax = plt.subplots(figsize=(11, 6))\n",
    "rects1 = ax.bar(x - width/2, practiced_means, width, yerr = practiced_stds, label='Practiced', capsize=5)\n",
    "rects2 = ax.bar(x + width/2, novel_means, width, yerr = novel_stds, label='Novel', capsize=5)\n",
    "\n",
    "ax.set_ylabel('Response Times (ms)')\n",
    "ax.set_title('GO response by Trial and Congruency')\n",
    "ax.set_xticks(x)\n",
    "ax.set_xticklabels(labels)\n",
    "ax.legend()\n"
   ]
  },
  {
   "cell_type": "code",
   "execution_count": 41,
   "id": "22b1436c-fe5c-4148-88bd-e34e1307db9b",
   "metadata": {},
   "outputs": [
    {
     "data": {
      "text/plain": [
       "38"
      ]
     },
     "execution_count": 41,
     "metadata": {},
     "output_type": "execute_result"
    }
   ],
   "source": [
    "len(mean_prac_trial_1)"
   ]
  },
  {
   "cell_type": "code",
   "execution_count": 47,
   "id": "7cbda202-ca29-4f52-958f-ebb1b790b240",
   "metadata": {},
   "outputs": [],
   "source": [
    "data_exp_4 = pd.DataFrame({\n",
    "    'subject_id':subj_id*8,\n",
    "    'Trials': ['Trial_1']*38 + ['Trial_2']*38 + ['Trial_3']*38 + ['Trial_4']*38 + \n",
    "    ['Trial_1']*38 + ['Trial_2']*38 + ['Trial_3']*38 + ['Trial_4']*38,\n",
    "    'Practice_cond': ['Practice'] * 152 + ['Novel'] * 152, \n",
    "    'Mean_response_time': mean_prac_trial_1 + mean_prac_trial_2 + mean_prac_trial_3 + mean_prac_trial_4 +\n",
    "    mean_novel_trial_1 + mean_novel_trial_2 + mean_novel_trial_3 + mean_novel_trial_4\n",
    "    \n",
    "    \n",
    "})\n",
    "    "
   ]
  },
  {
   "cell_type": "code",
   "execution_count": 48,
   "id": "b5dbdb1c-261d-46e6-901f-763097d1605d",
   "metadata": {},
   "outputs": [
    {
     "data": {
      "text/html": [
       "<div>\n",
       "<style scoped>\n",
       "    .dataframe tbody tr th:only-of-type {\n",
       "        vertical-align: middle;\n",
       "    }\n",
       "\n",
       "    .dataframe tbody tr th {\n",
       "        vertical-align: top;\n",
       "    }\n",
       "\n",
       "    .dataframe thead th {\n",
       "        text-align: right;\n",
       "    }\n",
       "</style>\n",
       "<table border=\"1\" class=\"dataframe\">\n",
       "  <thead>\n",
       "    <tr style=\"text-align: right;\">\n",
       "      <th></th>\n",
       "      <th>subject_id</th>\n",
       "      <th>Trials</th>\n",
       "      <th>Practice_cond</th>\n",
       "      <th>Mean_response_time</th>\n",
       "    </tr>\n",
       "  </thead>\n",
       "  <tbody>\n",
       "    <tr>\n",
       "      <th>0</th>\n",
       "      <td>subj39 csv file.csv</td>\n",
       "      <td>Trial_1</td>\n",
       "      <td>Practice</td>\n",
       "      <td>498.125</td>\n",
       "    </tr>\n",
       "    <tr>\n",
       "      <th>1</th>\n",
       "      <td>subj7 csv file.csv</td>\n",
       "      <td>Trial_1</td>\n",
       "      <td>Practice</td>\n",
       "      <td>615.000</td>\n",
       "    </tr>\n",
       "    <tr>\n",
       "      <th>2</th>\n",
       "      <td>subj29 csv file.csv</td>\n",
       "      <td>Trial_1</td>\n",
       "      <td>Practice</td>\n",
       "      <td>676.125</td>\n",
       "    </tr>\n",
       "    <tr>\n",
       "      <th>3</th>\n",
       "      <td>subj34 csv file.csv</td>\n",
       "      <td>Trial_1</td>\n",
       "      <td>Practice</td>\n",
       "      <td>762.000</td>\n",
       "    </tr>\n",
       "    <tr>\n",
       "      <th>4</th>\n",
       "      <td>subj38 csv file.csv</td>\n",
       "      <td>Trial_1</td>\n",
       "      <td>Practice</td>\n",
       "      <td>821.375</td>\n",
       "    </tr>\n",
       "  </tbody>\n",
       "</table>\n",
       "</div>"
      ],
      "text/plain": [
       "            subject_id   Trials Practice_cond  Mean_response_time\n",
       "0  subj39 csv file.csv  Trial_1      Practice             498.125\n",
       "1   subj7 csv file.csv  Trial_1      Practice             615.000\n",
       "2  subj29 csv file.csv  Trial_1      Practice             676.125\n",
       "3  subj34 csv file.csv  Trial_1      Practice             762.000\n",
       "4  subj38 csv file.csv  Trial_1      Practice             821.375"
      ]
     },
     "execution_count": 48,
     "metadata": {},
     "output_type": "execute_result"
    }
   ],
   "source": [
    "data_exp_4.head()"
   ]
  },
  {
   "cell_type": "code",
   "execution_count": 49,
   "id": "e0a05572-4017-401d-ad7c-bf3e3252040c",
   "metadata": {},
   "outputs": [
    {
     "name": "stdout",
     "output_type": "stream",
     "text": [
      "                       Anova\n",
      "===================================================\n",
      "                     F Value Num DF  Den DF  Pr > F\n",
      "---------------------------------------------------\n",
      "Trials               21.1609 3.0000 111.0000 0.0000\n",
      "Practice_cond        18.3982 1.0000  37.0000 0.0001\n",
      "Trials:Practice_cond  0.4218 3.0000 111.0000 0.7377\n",
      "===================================================\n",
      "\n"
     ]
    }
   ],
   "source": [
    "#repeated measures ANOVA\n",
    "\n",
    "anova_model = AnovaRM(data=data_exp_4, depvar='Mean_response_time', subject='subject_id', within=['Trials', 'Practice_cond']).fit()\n",
    "print(anova_model.summary())"
   ]
  },
  {
   "cell_type": "code",
   "execution_count": 52,
   "id": "e42df4d4-b013-461d-a218-f42ee9066812",
   "metadata": {},
   "outputs": [
    {
     "name": "stdout",
     "output_type": "stream",
     "text": [
      "Trial_1: p-value = 0.0003 (Significant) after bonferroni correction\n",
      "Trial_2: p-value = 0.0063 (Significant) after bonferroni correction\n",
      "Trial_3: p-value = 0.1428 (Not significant) after bonferroni correction\n",
      "Trial_4: p-value = 0.1606 (Not significant) after bonferroni correction\n"
     ]
    }
   ],
   "source": [
    "num_comparisons = 4\n",
    "# Adjusted alpha level for Bonferroni correction\n",
    "alpha_adjusted = 0.05 / num_comparisons\n",
    "\n",
    "\n",
    "for trial in ['Trial_1', 'Trial_2', 'Trial_3', 'Trial_4']:\n",
    "    \n",
    "    # Extract response times for Novel and Practiced conditions in the current trial\n",
    "    rt_novel = data_exp_4[(data_exp_4['Trials'] == trial) & (data_exp_4['Practice_cond'] == 'Novel')]['Mean_response_time']\n",
    "    rt_practiced = data_exp_4[(data_exp_4['Trials'] == trial) & (data_exp_4['Practice_cond'] == 'Practice')]['Mean_response_time']\n",
    "    \n",
    "    # Conduct the paired t-test\n",
    "    stat, p = ttest_rel(rt_novel, rt_practiced)\n",
    "    print(f\"{trial}: p-value = {p:.4f} {'(Significant)' if p < alpha_adjusted else '(Not significant)'} after bonferroni correction\")\n"
   ]
  },
  {
   "cell_type": "code",
   "execution_count": null,
   "id": "23a4b6c0-9e13-4b7a-9755-bcc6a9094424",
   "metadata": {},
   "outputs": [],
   "source": []
  },
  {
   "cell_type": "code",
   "execution_count": null,
   "id": "4d9e0c43-a39d-4b29-a945-574360d12f67",
   "metadata": {},
   "outputs": [],
   "source": []
  }
 ],
 "metadata": {
  "kernelspec": {
   "display_name": "Python 3 (ipykernel)",
   "language": "python",
   "name": "python3"
  },
  "language_info": {
   "codemirror_mode": {
    "name": "ipython",
    "version": 3
   },
   "file_extension": ".py",
   "mimetype": "text/x-python",
   "name": "python",
   "nbconvert_exporter": "python",
   "pygments_lexer": "ipython3",
   "version": "3.9.7"
  }
 },
 "nbformat": 4,
 "nbformat_minor": 5
}
